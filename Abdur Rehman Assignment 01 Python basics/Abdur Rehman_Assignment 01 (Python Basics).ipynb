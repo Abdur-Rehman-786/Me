{
 "cells": [
  {
   "cell_type": "markdown",
   "metadata": {},
   "source": [
    "# Part -1 Python Basics (Variables)"
   ]
  },
  {
   "cell_type": "markdown",
   "metadata": {},
   "source": [
    "1. Print Your Name with your Father name and Date of birth using suitable escape sequence charactor"
   ]
  },
  {
   "cell_type": "code",
   "execution_count": null,
   "metadata": {},
   "outputs": [],
   "source": [
    "print (\"Name:Abdur-Rehman\\n\")\n",
    "print (\"Father name:Muhammad Ali\\n\")\n",
    "print (\"Date of birth:8th febrary 2009\\n\")\n",
    "print (\"x-x-x-x-x-x-x-x-x-x-x-x-x-x-x-x-x-x-x-x-x-x\\n\")\n"
   ]
  },
  {
   "cell_type": "markdown",
   "metadata": {},
   "source": [
    "2. Write your small bio using variables and print it using print function"
   ]
  },
  {
   "cell_type": "code",
   "execution_count": null,
   "metadata": {},
   "outputs": [],
   "source": [
    "X=\"Abdur-Rehman\"\n",
    "print(\"My name is\" , X)\n",
    "Y=\"15\"\n",
    "print(\"My age is\",Y)\n",
    "A=\"Male\"\n",
    "print(\"My gender is\",A)\n",
    "print(\"I am a colleage student\")\n",
    "Z=\"salani mass IT traning\"\n",
    "print(\"These days i am learning Pyhthon programming language from \",Z)\n",
    "B=\"A-\"\n",
    "print(\"My blood group is\",B)"
   ]
  },
  {
   "cell_type": "markdown",
   "metadata": {},
   "source": [
    "3. Write a program in which use all the operators we can use in Python"
   ]
  },
  {
   "cell_type": "code",
   "execution_count": null,
   "metadata": {},
   "outputs": [],
   "source": [
    "#Arithmetic Operator\n",
    "x = 5\n",
    "y = 3\n",
    "\n",
    "print(x + y)\n",
    "x = 5\n",
    "y = 3\n",
    "\n",
    "print(x - y)\n",
    "x = 5\n",
    "y = 3\n",
    "\n",
    "print(x * y)\n",
    "x = 12\n",
    "y = 3\n",
    "\n",
    "print(x / y)\n",
    "x = 5\n",
    "y = 2\n",
    "\n",
    "print(x % y)\n",
    "x = 2\n",
    "y = 5\n",
    "\n",
    "print(x ** y) #same as 2*2*2*2*2\n",
    "x = 15\n",
    "y = 2\n",
    "\n",
    "print(x // y)\n",
    "\n",
    "#the floor division // rounds the result down to the nearest whole number\n",
    "#Assignment OPerator\n",
    "x = 5\n",
    "\n",
    "print(x)\n",
    "x = 5\n",
    "\n",
    "x += 3\n",
    "\n",
    "print(x)\n",
    "x = 5\n",
    "\n",
    "x -= 3\n",
    "\n",
    "print(x)\n",
    "x = 5\n",
    "\n",
    "x *= 3\n",
    "\n",
    "print(x)\n",
    "\n",
    "x = 5\n",
    "\n",
    "x /= 3\n",
    "\n",
    "print(x)\n",
    "x = 5\n",
    "\n",
    "x%=3\n",
    "\n",
    "print(x)\n",
    "x = 5\n",
    "\n",
    "x//=3\n",
    "\n",
    "print(x)\n",
    "x = 5\n",
    "\n",
    "x **= 3\n",
    "\n",
    "print(x)\n",
    "x = 5\n",
    "\n",
    "x &= 3\n",
    "\n",
    "print(x)\n",
    "x = 5\n",
    "\n",
    "x |= 3\n",
    "\n",
    "print(x)\n",
    "x = 5\n",
    "\n",
    "x ^= 3\n",
    "\n",
    "print(x)\n",
    "x = 5\n",
    "\n",
    "x >>= 3\n",
    "\n",
    "print(x)\n",
    "x = 5\n",
    "\n",
    "x <<= 3\n",
    "\n",
    "print(x)\n",
    "print(x := 3)\n",
    "#Comparision Operators\n",
    "x = 5\n",
    "y = 3\n",
    "\n",
    "print(x == y)\n",
    "\n",
    "# returns False because 5 is not equal to 3\n",
    "x = 5\n",
    "y = 3\n",
    "\n",
    "print(x != y)\n",
    "\n",
    "# returns True because 5 is not equal to 3\n",
    "x = 5\n",
    "y = 3\n",
    "\n",
    "print(x > y)\n",
    "\n",
    "# returns True because 5 is greater than 3\n",
    "x = 5\n",
    "y = 3\n",
    "\n",
    "print(x < y)\n",
    "\n",
    "# returns False because 5 is not less than 3\n",
    "x = 5\n",
    "y = 3\n",
    "\n",
    "print(x >= y)\n",
    "\n",
    "# returns True because five is greater, or equal, to 3\n",
    "x = 5\n",
    "y = 3\n",
    "\n",
    "print(x <= y)\n",
    "\n",
    "# returns False because 5 is neither less than or equal to 3\n",
    "#Logical Operators\n",
    "x = 5\n",
    "\n",
    "print(x > 3 and x < 10)\n",
    "\n",
    "# returns True because 5 is greater than 3 AND 5 is less than 10\n",
    "x = 5\n",
    "\n",
    "print(x > 3 or x < 4)\n",
    "\n",
    "# returns True because one of the conditions are true (5 is greater than 3, but 5 is not less than 4)\n",
    "x = 5\n",
    "\n",
    "print(not(x > 3 and x < 10))\n",
    "\n",
    "# returns False because not is used to reverse the result\n",
    "#Identity Operators\n",
    "x = [\"apple\", \"banana\"]\n",
    "y = [\"apple\", \"banana\"]\n",
    "z = x\n",
    "\n",
    "print(x is z)\n",
    "\n",
    "# returns True because z is the same object as x\n",
    "\n",
    "print(x is y)\n",
    "\n",
    "# returns False because x is not the same object as y, even if they have the same content\n",
    "\n",
    "print(x == y)\n",
    "\n",
    "# to demonstrate the difference betweeen \"is\" and \"==\": this comparison returns True because x is equal to y\n",
    "x = [\"apple\", \"banana\"]\n",
    "y = [\"apple\", \"banana\"]\n",
    "z = x\n",
    "\n",
    "print(x is not z)\n",
    "\n",
    "# returns False because z is the same object as x\n",
    "\n",
    "print(x is not y)\n",
    "\n",
    "# returns True because x is not the same object as y, even if they have the same content\n",
    "\n",
    "print(x != y)\n",
    "\n",
    "# to demonstrate the difference betweeen \"is not\" and \"!=\": this comparison returns False because x is equal to y\n",
    "#Membership Operators\n",
    "x = [\"apple\", \"banana\"]\n",
    "\n",
    "print(\"banana\" in x)\n",
    "\n",
    "# returns True because a sequence with the value \"banana\" is in the list\n",
    "x = [\"apple\", \"banana\"]\n",
    "\n",
    "print(\"pineapple\" not in x)\n",
    "\n",
    "# returns True because a sequence with the value \"pineapple\" is not in the list\n",
    "\n",
    "\n",
    "\n",
    "\n",
    "\n",
    "\n"
   ]
  },
  {
   "cell_type": "markdown",
   "metadata": {},
   "source": [
    "4. Completes the following steps of small task:\n",
    "    - Mention Marks of English , Islamiat and Maths out of 100 in 3 different variables\n",
    "    - Mention Variable of Total Marks and assign 300 to it\n",
    "    - Calculate Percentage"
   ]
  },
  {
   "cell_type": "code",
   "execution_count": null,
   "metadata": {},
   "outputs": [],
   "source": [
    "\n",
    "English=85\n",
    "Islamiyat=78\n",
    "Maths=87\n",
    "\n",
    "\n",
    "Total_Marks=English+Islamiyat+Maths\n",
    "\n",
    "Percentage=(Total_Marks*100)/300\n",
    "\n",
    "print(\"English=\",English)\n",
    "\n",
    "print(\"Islamiyat=\",Islamiyat)\n",
    "\n",
    "print(\"Maths=\",Maths)\n",
    "\n",
    "print(\"Total_Marks=\",Total_Marks)\n",
    "\n",
    "print(\"Percentage=\",Percentage)"
   ]
  },
  {
   "cell_type": "markdown",
   "metadata": {},
   "source": [
    "# Part -2 Python Basics (Conditional Statements)"
   ]
  },
  {
   "cell_type": "markdown",
   "metadata": {},
   "source": [
    "1) A company decided to give bonus of 5% to employee if his/her year of service is more than 5 years.\n",
    "Ask user for their salary and year of service and print the net bonus amount."
   ]
  },
  {
   "cell_type": "code",
   "execution_count": 6,
   "metadata": {},
   "outputs": [],
   "source": [
    "num1=int(input(\"Enter the Salary: \"))\n",
    "\n",
    "num2=int(input(\"Enter the year of services: \"))\n",
    "\n",
    "if num2>=5:\n",
    "\n",
    "    Total_Salaray = (num1*0.05)\n",
    "       \n",
    "    print(\"Total Salaray:\") \n",
    "    print (Total_Salaray)\n",
    "\n",
    "else:\n",
    "\n",
    "    print(\"No Bonous\") "
   ]
  },
  {
   "cell_type": "markdown",
   "metadata": {},
   "source": [
    "\n",
    "2) Write a program to check whether a person is eligible for voting or not. (accept age from user) if age is greater than 17 eligible otherwise not eligible"
   ]
  },
  {
   "cell_type": "code",
   "execution_count": 7,
   "metadata": {},
   "outputs": [],
   "source": [
    "num1=int(input(\"Enter your age: \"))\n",
    "\n",
    "if num1>=17:\n",
    "\n",
    "    print(\"Eligible to vote\") \n",
    "\n",
    "\n",
    "else:\n",
    "\n",
    "\n",
    "    print(\"Not eligible to vote\") "
   ]
  },
  {
   "cell_type": "markdown",
   "metadata": {},
   "source": [
    "\n",
    "3) Write a program to check whether a number entered by user is even or odd."
   ]
  },
  {
   "cell_type": "code",
   "execution_count": 8,
   "metadata": {},
   "outputs": [],
   "source": [
    "num = int(input(\"Enter a number: \"))\n",
    "if (num % 2) == 0:\n",
    "   print(\" Even\")\n",
    "else:\n",
    "   print(\" Odd\")"
   ]
  },
  {
   "cell_type": "markdown",
   "metadata": {},
   "source": [
    "4) Write a program to check whether a number is divisible by 7 or not.\n",
    "Show Answer"
   ]
  },
  {
   "cell_type": "code",
   "execution_count": 9,
   "metadata": {},
   "outputs": [],
   "source": [
    "num = int(input(\"Enter a number: \"))\n",
    "if (num % 7) == 0:\n",
    "   print(\" Divisible\")\n",
    "else:\n",
    "   print(\" Not Divisible\")\n",
    "\n",
    "OUTPUT:\n",
    "Enter a number: 14\n",
    " Divisible\n",
    "\n",
    "=== Code Execution Successful ===   "
   ]
  },
  {
   "cell_type": "markdown",
   "metadata": {},
   "source": [
    "5) Write a program to display \n",
    "\"Hello\" if a number entered by user is a multiple of five , otherwise print \"Bye\"."
   ]
  },
  {
   "cell_type": "code",
   "execution_count": 11,
   "metadata": {},
   "outputs": [],
   "source": [
    "num = int(input(\"Enter a number: \"))\n",
    "if (num % 5) == 0:\n",
    "   print(\" Hello\")\n",
    "else:\n",
    "   print(\" Bye\")\n",
    "   "
   ]
  },
  {
   "cell_type": "markdown",
   "metadata": {},
   "source": [
    "7) Write a program to display the last digit of a number.\n"
   ]
  },
  {
   "cell_type": "code",
   "execution_count": 12,
   "metadata": {},
   "outputs": [],
   "source": [
    "number = int(input(\"Enter a number: \"))\n",
    "\n",
    "lastDigit = int(repr(number)[-1])\n",
    "\n",
    "print (lastDigit)"
   ]
  },
  {
   "cell_type": "markdown",
   "metadata": {},
   "source": [
    "9) Take values of length and breadth of a rectangle from user and print if it is square or rectangle."
   ]
  },
  {
   "cell_type": "code",
   "execution_count": 14,
   "metadata": {},
   "outputs": [],
   "source": [
    "length=int(input(\"Enter length of rectangle: \"))\n",
    "\n",
    "breadth=int(input(\"Enter breadth of rectangle: \"))\n",
    "\n",
    "if length==breadth:\n",
    "\n",
    "       print(\"The rectangle is also a square\")\n",
    "\n",
    "else:\n",
    "\n",
    "       print(\"The rectangle is not a square\")"
   ]
  },
  {
   "cell_type": "markdown",
   "metadata": {},
   "source": [
    "10) Take two int values from user and print greatest among them."
   ]
  },
  {
   "cell_type": "code",
   "execution_count": 15,
   "metadata": {},
   "outputs": [],
   "source": [
    "num1=int(input(\"Enter 1st Number: \"))\n",
    "\n",
    "num2=int(input(\"Enter 2nd Number: \"))\n",
    "\n",
    "if num1>num2:\n",
    "\n",
    "       print(\"The 1st Number is greater\")\n",
    "\n",
    "else:\n",
    "\n",
    "       print(\"The 2nd Number is greater\")"
   ]
  },
  {
   "cell_type": "markdown",
   "metadata": {},
   "source": [
    "11) A shop will give discount of 10% if the cost of purchased quantity is more than 1000.\n",
    "Ask user for quantity\n",
    "Suppose, one unit will cost 100.\n",
    "Judge and print total cost for user."
   ]
  },
  {
   "cell_type": "code",
   "execution_count": 16,
   "metadata": {},
   "outputs": [],
   "source": [
    "\n",
    "print(\"Welcome to shop:\")\n",
    " \n",
    "print(\"IF buyed 1000 or more then 1000 get 10% discount\")\n",
    " \n",
    "num1=int(input(\"Enter the QUANTITY of units you want to buy: \"))\n",
    "\n",
    "if num1<= 1000:\n",
    "\n",
    "    Total_Price = (num1*100)/10\n",
    "       \n",
    "    print(\"Total Price:\") \n",
    "    print (Total_Price)\n",
    "\n",
    "else:\n",
    "\n",
    "    Total_Price = (num1*100)\n",
    "       \n",
    "    print(\"Total Price:\") \n",
    "    print (Total_Price)"
   ]
  },
  {
   "cell_type": "markdown",
   "metadata": {},
   "source": [
    "12) A school has following rules for grading system:\n",
    "\n",
    "a. Below 25 - F\n",
    "\n",
    "b. 25 to 45 - E\n",
    "\n",
    "c. 45 to 50 - D\n",
    "\n",
    "d. 50 to 60 - C\n",
    "\n",
    "e. 60 to 80 - B\n",
    "\n",
    "f. Above 80 - A\n",
    "\n",
    "Ask user to enter marks and print the corresponding grade."
   ]
  },
  {
   "cell_type": "code",
   "execution_count": 2,
   "metadata": {},
   "outputs": [],
   "source": [
    "TotalNumber = input(\"Enter your Percentage: \")\n",
    "\n",
    "TotalNumber = int(TotalNumber)\n",
    "\n",
    "if TotalNumber < 25:  \n",
    "\n",
    "   print(\"F\")\n",
    "\n",
    "elif TotalNumber >= 25 and TotalNumber < 45:  \n",
    "\n",
    "   print(\"E\")\n",
    "\n",
    "elif TotalNumber >= 45 and TotalNumber < 50:  \n",
    "\n",
    "   print(\"D\")\n",
    "\n",
    "elif TotalNumber >= 50 and TotalNumber < 60:  \n",
    "\n",
    "   print(\"C\")\n",
    "\n",
    "elif TotalNumber >= 60 and TotalNumber < 80:  \n",
    "\n",
    "   print(\"B\")\n",
    "\n",
    "else:  \n",
    "\n",
    "   print(\"A\")"
   ]
  },
  {
   "cell_type": "markdown",
   "metadata": {},
   "source": [
    "14)A student will not be allowed to sit in exam if his/her attendence is less than 75%.\n",
    "\n",
    "Take following input from user\n",
    "\n",
    "- Number of classes held\n",
    "\n",
    "- Number of classes attended.\n",
    "\n",
    "And print\n",
    "\n",
    "- percentage of class attended\n",
    "\n",
    "- Is student is allowed to sit in exam or not.\n"
   ]
  },
  {
   "cell_type": "code",
   "execution_count": 19,
   "metadata": {},
   "outputs": [],
   "source": [
    "Totalclasses = input(\"Enter Number of classes held: \")\n",
    "Totalclasses = int(Totalclasses)\n",
    "\n",
    "Totalattended = input(\"Enter Number of classes attended: \")\n",
    "Totalattended = int(Totalattended)\n",
    "\n",
    "TotalNumber = (Totalattended / Totalclasses)*100\n",
    "\n",
    "TotalNumber = int(TotalNumber)\n",
    "\n",
    "print(\"Percentage of classes atended: \")\n",
    " \n",
    "print(TotalNumber)\n",
    "\n",
    "if TotalNumber < 75:  \n",
    "\n",
    "   print(\"Not Allowded To Sit.\")\n",
    "\n",
    "else:  \n",
    "\n",
    "   print(\"Allowded To Sit.\")"
   ]
  },
  {
   "cell_type": "markdown",
   "metadata": {},
   "source": [
    "15) Modify the above question to allow student to sit if he/she has medical cause. Ask user if he/she has medical cause or not ( 'Y' or 'N' ) and print accordingly."
   ]
  },
  {
   "cell_type": "code",
   "execution_count": 20,
   "metadata": {},
   "outputs": [],
   "source": [
    "Totalclasses = input(\"Enter Number of classes held: \")\n",
    "Totalclasses = int(Totalclasses)\n",
    "\n",
    "Totalattended = input(\"Enter Number of classes attended: \")\n",
    "Totalattended = int(Totalattended)\n",
    "\n",
    "TotalNumber = (Totalattended / Totalclasses)*100\n",
    "\n",
    "TotalNumber = int(TotalNumber)\n",
    "\n",
    "print(\"Percentage of classes atended: \")\n",
    " \n",
    "print(TotalNumber)\n",
    "\n",
    "if TotalNumber < 75:  \n",
    "\n",
    "   print(\"Not Allowded To Sit.\")\n",
    "\n",
    "else:  \n",
    "\n",
    "   print(\"Allowded To Sit.\")\n",
    "   \n",
    "MC = input(\"Enter If there is medical cause in Y or N: \")\n",
    "\n",
    "if MC == \"Y\":  \n",
    "\n",
    "   print(\"Not Allowded\")\n",
    "\n",
    "else:  \n",
    "\n",
    "   print(\"Allowded To Sit.\")"
   ]
  },
  {
   "cell_type": "markdown",
   "metadata": {},
   "source": [
    "16) Write a program to check if a year is leap year or not.\n",
    "\n",
    "If a year is divisible by 4 then it is leap year but if the year is century year like 2000, 1900, 2100 then it must be divisible by 400."
   ]
  },
  {
   "cell_type": "code",
   "execution_count": 21,
   "metadata": {},
   "outputs": [],
   "source": [
    "year = input(\"Enter the year to cheak : \")\n",
    "year = int(year)\n",
    "\n",
    "if (year % 400 == 0) and (year % 100 == 0):\n",
    "    print(\"A leap year\")\n",
    "\n",
    "elif (year % 4 ==0) and (year % 100 != 0):\n",
    "    print(\"A leap year\")\n",
    "\n",
    "else:\n",
    "    print(\"Not a leap year\")"
   ]
  },
  {
   "cell_type": "markdown",
   "metadata": {},
   "source": [
    "17) Ask user to enter age, gender ( M or F ), marital status ( Y or N ) and then using following rules print their place of service.\n",
    "\n",
    "if employee is female, then she will work only in urban areas.\n",
    "\n",
    "if employee is a male and age is in between 20 to 40 then he may work in anywhere\n",
    "\n",
    "if employee is male and age is in between 40 t0 60 then he will work in urban areas only.\n",
    "\n",
    "And any other input of age should print \"ERROR\""
   ]
  },
  {
   "cell_type": "code",
   "execution_count": 22,
   "metadata": {},
   "outputs": [],
   "source": [
    "#Type your code here"
   ]
  },
  {
   "cell_type": "markdown",
   "metadata": {},
   "source": [
    "6) Write a program to calculate the electricity bill (accept number of unit from user) according to the following criteria :\n",
    "     Unit                                                     Price  \n",
    "uptp 100 units                                             no charge\n",
    "Next 200 units                                              Rs 5 per unit\n",
    "After 200 units                                             Rs 10 per unit\n",
    "(For example if input unit is 350 than total bill amount is Rs.3500\n",
    "(For example if input unit is 97 than total bill amount is Rs.0\n",
    "(For example if input unit is 150 than total bill amount is Rs.750"
   ]
  },
  {
   "cell_type": "markdown",
   "metadata": {},
   "source": [
    "13) Take input of age of 3 people by user and determine oldest and youngest among them."
   ]
  },
  {
   "cell_type": "code",
   "execution_count": 18,
   "metadata": {},
   "outputs": [],
   "source": [
    "#Type your code here"
   ]
  }
 ],
 "metadata": {
  "kernelspec": {
   "display_name": "Python 3 (ipykernel)",
   "language": "python",
   "name": "python3"
  },
  "language_info": {
   "codemirror_mode": {
    "name": "ipython",
    "version": 3
   },
   "file_extension": ".py",
   "mimetype": "text/x-python",
   "name": "python",
   "nbconvert_exporter": "python",
   "pygments_lexer": "ipython3",
   "version": "3.11.5"
  }
 },
 "nbformat": 4,
 "nbformat_minor": 2
}
